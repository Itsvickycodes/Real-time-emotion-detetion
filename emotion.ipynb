{
  "nbformat": 4,
  "nbformat_minor": 0,
  "metadata": {
    "colab": {
      "provenance": []
    },
    "kernelspec": {
      "name": "python3",
      "display_name": "Python 3"
    },
    "language_info": {
      "name": "python"
    },
    "accelerator": "GPU"
  },
  "cells": [
    {
      "cell_type": "code",
      "execution_count": 1,
      "metadata": {
        "id": "U5WsayA-mIIA"
      },
      "outputs": [],
      "source": [
        "#import data by kaggle\n",
        "!mkdir -p ~/.kaggle\n",
        "!cp kaggle.json ~/.kaggle/"
      ]
    },
    {
      "cell_type": "code",
      "source": [
        "!kaggle datasets download -d msambare/fer2013"
      ],
      "metadata": {
        "colab": {
          "base_uri": "https://localhost:8080/"
        },
        "id": "TgnaqZVEms-E",
        "outputId": "f2d61c34-543e-4810-86e2-61b9a1348d37"
      },
      "execution_count": 2,
      "outputs": [
        {
          "output_type": "stream",
          "name": "stdout",
          "text": [
            "Warning: Your Kaggle API key is readable by other users on this system! To fix this, you can run 'chmod 600 /root/.kaggle/kaggle.json'\n",
            "Downloading fer2013.zip to /content\n",
            " 86% 52.0M/60.3M [00:00<00:00, 281MB/s]\n",
            "100% 60.3M/60.3M [00:00<00:00, 278MB/s]\n"
          ]
        }
      ]
    },
    {
      "cell_type": "code",
      "source": [
        "import zipfile\n",
        "zip_ref = zipfile.ZipFile('/content/fer2013.zip','r')\n",
        "zip_ref.extractall('/content')\n",
        "zip_ref.close()"
      ],
      "metadata": {
        "id": "M1vcOpO3pblN"
      },
      "execution_count": 3,
      "outputs": []
    },
    {
      "cell_type": "code",
      "source": [
        "#mport required packages\n",
        "import cv2\n",
        "from keras.models import Sequential\n",
        "from keras.layers import Conv2D, MaxPooling2D, Dense, Dropout, Flatten\n",
        "from keras.optimizers import Adam\n",
        "from keras.preprocessing.image import ImageDataGenerator"
      ],
      "metadata": {
        "id": "NytSSYckpxUk"
      },
      "execution_count": 4,
      "outputs": []
    },
    {
      "cell_type": "code",
      "source": [
        "# Initialize image data generator with rescaling\n",
        "train_data_gen = ImageDataGenerator(rescale=1./255)\n",
        "validation_data_gen = ImageDataGenerator(rescale=1./255)"
      ],
      "metadata": {
        "id": "-ZDCdFBTpxXR"
      },
      "execution_count": 5,
      "outputs": []
    },
    {
      "cell_type": "code",
      "source": [
        "# Preprocess all test images\n",
        "train_generator = train_data_gen.flow_from_directory(\n",
        "        '/content/train',\n",
        "        target_size=(48, 48),\n",
        "        batch_size=64,\n",
        "        color_mode=\"grayscale\",\n",
        "        class_mode='categorical')\n",
        "\n",
        "# Preprocess all train images\n",
        "validation_generator = validation_data_gen.flow_from_directory(\n",
        "        '/content/test',\n",
        "        target_size=(48, 48),\n",
        "        batch_size=64,\n",
        "        color_mode=\"grayscale\",\n",
        "        class_mode='categorical')"
      ],
      "metadata": {
        "colab": {
          "base_uri": "https://localhost:8080/"
        },
        "id": "kDpOlRwKpxaa",
        "outputId": "a28de8a9-0b8b-4cab-cfb4-76d6a3c0851a"
      },
      "execution_count": 15,
      "outputs": [
        {
          "output_type": "stream",
          "name": "stdout",
          "text": [
            "Found 28709 images belonging to 7 classes.\n",
            "Found 7178 images belonging to 7 classes.\n"
          ]
        }
      ]
    },
    {
      "cell_type": "code",
      "source": [
        "# create model structure\n",
        "emotion_model = Sequential()"
      ],
      "metadata": {
        "id": "phYm9rqzp7Av"
      },
      "execution_count": 16,
      "outputs": []
    },
    {
      "cell_type": "code",
      "source": [
        "# create model structure\n",
        "emotion_model = Sequential()\n",
        "\n",
        "emotion_model.add(Conv2D(32, kernel_size=(3, 3), activation='relu', input_shape=(48, 48, 1)))\n",
        "emotion_model.add(Conv2D(64, kernel_size=(3, 3), activation='relu'))\n",
        "emotion_model.add(MaxPooling2D(pool_size=(2, 2)))\n",
        "emotion_model.add(Dropout(0.25))\n",
        "\n",
        "emotion_model.add(Conv2D(128, kernel_size=(3, 3), activation='relu'))\n",
        "emotion_model.add(MaxPooling2D(pool_size=(2, 2)))\n",
        "emotion_model.add(Conv2D(128, kernel_size=(3, 3), activation='relu'))\n",
        "emotion_model.add(MaxPooling2D(pool_size=(2, 2)))\n",
        "emotion_model.add(Dropout(0.25))\n",
        "\n",
        "emotion_model.add(Flatten())\n",
        "emotion_model.add(Dense(1024, activation='relu'))\n",
        "emotion_model.add(Dropout(0.5))\n",
        "emotion_model.add(Dense(7, activation='softmax'))"
      ],
      "metadata": {
        "id": "3OBdMgp3p7Dr"
      },
      "execution_count": 17,
      "outputs": []
    },
    {
      "cell_type": "code",
      "source": [
        "emotion_model.summary()"
      ],
      "metadata": {
        "colab": {
          "base_uri": "https://localhost:8080/"
        },
        "id": "qQL3psFnp7Gx",
        "outputId": "fbce5ffb-5da4-4dbe-c201-844f01570874"
      },
      "execution_count": 18,
      "outputs": [
        {
          "output_type": "stream",
          "name": "stdout",
          "text": [
            "Model: \"sequential_3\"\n",
            "_________________________________________________________________\n",
            " Layer (type)                Output Shape              Param #   \n",
            "=================================================================\n",
            " conv2d_4 (Conv2D)           (None, 46, 46, 32)        320       \n",
            "                                                                 \n",
            " conv2d_5 (Conv2D)           (None, 44, 44, 64)        18496     \n",
            "                                                                 \n",
            " max_pooling2d_3 (MaxPooling  (None, 22, 22, 64)       0         \n",
            " 2D)                                                             \n",
            "                                                                 \n",
            " dropout_3 (Dropout)         (None, 22, 22, 64)        0         \n",
            "                                                                 \n",
            " conv2d_6 (Conv2D)           (None, 20, 20, 128)       73856     \n",
            "                                                                 \n",
            " max_pooling2d_4 (MaxPooling  (None, 10, 10, 128)      0         \n",
            " 2D)                                                             \n",
            "                                                                 \n",
            " conv2d_7 (Conv2D)           (None, 8, 8, 128)         147584    \n",
            "                                                                 \n",
            " max_pooling2d_5 (MaxPooling  (None, 4, 4, 128)        0         \n",
            " 2D)                                                             \n",
            "                                                                 \n",
            " dropout_4 (Dropout)         (None, 4, 4, 128)         0         \n",
            "                                                                 \n",
            " flatten_1 (Flatten)         (None, 2048)              0         \n",
            "                                                                 \n",
            " dense_2 (Dense)             (None, 1024)              2098176   \n",
            "                                                                 \n",
            " dropout_5 (Dropout)         (None, 1024)              0         \n",
            "                                                                 \n",
            " dense_3 (Dense)             (None, 7)                 7175      \n",
            "                                                                 \n",
            "=================================================================\n",
            "Total params: 2,345,607\n",
            "Trainable params: 2,345,607\n",
            "Non-trainable params: 0\n",
            "_________________________________________________________________\n"
          ]
        }
      ]
    },
    {
      "cell_type": "code",
      "source": [
        "cv2.ocl.setUseOpenCL(False)\n",
        "\n",
        "emotion_model.compile(loss='categorical_crossentropy', optimizer=Adam(lr=0.0001, decay=1e-6), metrics=['accuracy'])"
      ],
      "metadata": {
        "colab": {
          "base_uri": "https://localhost:8080/"
        },
        "id": "HpXiSa-Ep7Ls",
        "outputId": "a9134718-8f01-4068-e015-a71029328117"
      },
      "execution_count": 19,
      "outputs": [
        {
          "output_type": "stream",
          "name": "stderr",
          "text": [
            "/usr/local/lib/python3.7/dist-packages/keras/optimizers/optimizer_v2/adam.py:110: UserWarning: The `lr` argument is deprecated, use `learning_rate` instead.\n",
            "  super(Adam, self).__init__(name, **kwargs)\n"
          ]
        }
      ]
    },
    {
      "cell_type": "code",
      "source": [
        "# Train the neural network/model\n",
        "history=emotion_model_info = emotion_model.fit_generator(\n",
        "        train_generator,\n",
        "        steps_per_epoch=28709 // 64,\n",
        "        epochs=50,\n",
        "        validation_data=validation_generator,\n",
        "        validation_steps=7178 // 64)"
      ],
      "metadata": {
        "colab": {
          "base_uri": "https://localhost:8080/"
        },
        "id": "iitIiNDpp7PP",
        "outputId": "61a2eef3-9493-4752-fe26-d285c9fc781e"
      },
      "execution_count": 20,
      "outputs": [
        {
          "metadata": {
            "tags": null
          },
          "name": "stdout",
          "output_type": "stream",
          "text": [
            "Epoch 1/50\n"
          ]
        },
        {
          "metadata": {
            "tags": null
          },
          "name": "stderr",
          "output_type": "stream",
          "text": [
            "/usr/local/lib/python3.7/dist-packages/ipykernel_launcher.py:7: UserWarning: `Model.fit_generator` is deprecated and will be removed in a future version. Please use `Model.fit`, which supports generators.\n",
            "  import sys\n"
          ]
        },
        {
          "output_type": "stream",
          "name": "stdout",
          "text": [
            "448/448 [==============================] - 16s 35ms/step - loss: 1.8003 - accuracy: 0.2619 - val_loss: 1.7016 - val_accuracy: 0.3510\n",
            "Epoch 2/50\n",
            "448/448 [==============================] - 12s 27ms/step - loss: 1.6300 - accuracy: 0.3647 - val_loss: 1.5439 - val_accuracy: 0.4159\n",
            "Epoch 3/50\n",
            "448/448 [==============================] - 12s 28ms/step - loss: 1.5359 - accuracy: 0.4106 - val_loss: 1.4761 - val_accuracy: 0.4428\n",
            "Epoch 4/50\n",
            "448/448 [==============================] - 12s 27ms/step - loss: 1.4630 - accuracy: 0.4402 - val_loss: 1.4091 - val_accuracy: 0.4625\n",
            "Epoch 5/50\n",
            "448/448 [==============================] - 12s 27ms/step - loss: 1.4032 - accuracy: 0.4695 - val_loss: 1.3561 - val_accuracy: 0.4838\n",
            "Epoch 6/50\n",
            "448/448 [==============================] - 12s 28ms/step - loss: 1.3562 - accuracy: 0.4854 - val_loss: 1.3306 - val_accuracy: 0.4929\n",
            "Epoch 7/50\n",
            "448/448 [==============================] - 13s 29ms/step - loss: 1.3116 - accuracy: 0.5001 - val_loss: 1.2839 - val_accuracy: 0.5092\n",
            "Epoch 8/50\n",
            "448/448 [==============================] - 13s 29ms/step - loss: 1.2734 - accuracy: 0.5171 - val_loss: 1.2511 - val_accuracy: 0.5222\n",
            "Epoch 9/50\n",
            "448/448 [==============================] - 13s 29ms/step - loss: 1.2336 - accuracy: 0.5303 - val_loss: 1.2214 - val_accuracy: 0.5364\n",
            "Epoch 10/50\n",
            "448/448 [==============================] - 12s 28ms/step - loss: 1.2012 - accuracy: 0.5489 - val_loss: 1.2011 - val_accuracy: 0.5414\n",
            "Epoch 11/50\n",
            "448/448 [==============================] - 13s 28ms/step - loss: 1.1700 - accuracy: 0.5619 - val_loss: 1.1835 - val_accuracy: 0.5487\n",
            "Epoch 12/50\n",
            "448/448 [==============================] - 13s 29ms/step - loss: 1.1425 - accuracy: 0.5715 - val_loss: 1.1709 - val_accuracy: 0.5555\n",
            "Epoch 13/50\n",
            "448/448 [==============================] - 12s 27ms/step - loss: 1.1112 - accuracy: 0.5857 - val_loss: 1.1522 - val_accuracy: 0.5605\n",
            "Epoch 14/50\n",
            "448/448 [==============================] - 12s 27ms/step - loss: 1.0845 - accuracy: 0.5958 - val_loss: 1.1361 - val_accuracy: 0.5654\n",
            "Epoch 15/50\n",
            "448/448 [==============================] - 12s 27ms/step - loss: 1.0579 - accuracy: 0.6056 - val_loss: 1.1205 - val_accuracy: 0.5735\n",
            "Epoch 16/50\n",
            "448/448 [==============================] - 12s 27ms/step - loss: 1.0328 - accuracy: 0.6149 - val_loss: 1.1118 - val_accuracy: 0.5776\n",
            "Epoch 17/50\n",
            "448/448 [==============================] - 12s 28ms/step - loss: 1.0115 - accuracy: 0.6236 - val_loss: 1.1093 - val_accuracy: 0.5812\n",
            "Epoch 18/50\n",
            "448/448 [==============================] - 13s 29ms/step - loss: 0.9846 - accuracy: 0.6364 - val_loss: 1.0955 - val_accuracy: 0.5816\n",
            "Epoch 19/50\n",
            "448/448 [==============================] - 12s 27ms/step - loss: 0.9630 - accuracy: 0.6430 - val_loss: 1.0938 - val_accuracy: 0.5875\n",
            "Epoch 20/50\n",
            "448/448 [==============================] - 13s 28ms/step - loss: 0.9395 - accuracy: 0.6522 - val_loss: 1.0874 - val_accuracy: 0.5912\n",
            "Epoch 21/50\n",
            "448/448 [==============================] - 12s 27ms/step - loss: 0.9152 - accuracy: 0.6631 - val_loss: 1.0850 - val_accuracy: 0.5971\n",
            "Epoch 22/50\n",
            "448/448 [==============================] - 12s 26ms/step - loss: 0.8853 - accuracy: 0.6755 - val_loss: 1.0790 - val_accuracy: 0.6002\n",
            "Epoch 23/50\n",
            "448/448 [==============================] - 12s 27ms/step - loss: 0.8687 - accuracy: 0.6819 - val_loss: 1.0715 - val_accuracy: 0.6044\n",
            "Epoch 24/50\n",
            "448/448 [==============================] - 12s 27ms/step - loss: 0.8421 - accuracy: 0.6918 - val_loss: 1.0811 - val_accuracy: 0.6044\n",
            "Epoch 25/50\n",
            "448/448 [==============================] - 12s 28ms/step - loss: 0.8158 - accuracy: 0.7006 - val_loss: 1.0868 - val_accuracy: 0.6034\n",
            "Epoch 26/50\n",
            "448/448 [==============================] - 12s 27ms/step - loss: 0.7939 - accuracy: 0.7093 - val_loss: 1.0695 - val_accuracy: 0.6067\n",
            "Epoch 27/50\n",
            "448/448 [==============================] - 13s 29ms/step - loss: 0.7736 - accuracy: 0.7173 - val_loss: 1.0753 - val_accuracy: 0.6042\n",
            "Epoch 28/50\n",
            "448/448 [==============================] - 12s 27ms/step - loss: 0.7459 - accuracy: 0.7283 - val_loss: 1.0746 - val_accuracy: 0.6140\n",
            "Epoch 29/50\n",
            "448/448 [==============================] - 12s 27ms/step - loss: 0.7309 - accuracy: 0.7336 - val_loss: 1.0806 - val_accuracy: 0.6129\n",
            "Epoch 30/50\n",
            "448/448 [==============================] - 12s 27ms/step - loss: 0.7061 - accuracy: 0.7416 - val_loss: 1.0772 - val_accuracy: 0.6136\n",
            "Epoch 31/50\n",
            "448/448 [==============================] - 12s 27ms/step - loss: 0.6811 - accuracy: 0.7521 - val_loss: 1.0946 - val_accuracy: 0.6119\n",
            "Epoch 32/50\n",
            "448/448 [==============================] - 13s 28ms/step - loss: 0.6574 - accuracy: 0.7623 - val_loss: 1.0947 - val_accuracy: 0.6151\n",
            "Epoch 33/50\n",
            "448/448 [==============================] - 12s 27ms/step - loss: 0.6431 - accuracy: 0.7669 - val_loss: 1.0982 - val_accuracy: 0.6140\n",
            "Epoch 34/50\n",
            "448/448 [==============================] - 12s 27ms/step - loss: 0.6204 - accuracy: 0.7732 - val_loss: 1.0903 - val_accuracy: 0.6166\n",
            "Epoch 35/50\n",
            "448/448 [==============================] - 13s 29ms/step - loss: 0.5948 - accuracy: 0.7845 - val_loss: 1.0937 - val_accuracy: 0.6196\n",
            "Epoch 36/50\n",
            "448/448 [==============================] - 12s 27ms/step - loss: 0.5752 - accuracy: 0.7916 - val_loss: 1.1159 - val_accuracy: 0.6179\n",
            "Epoch 37/50\n",
            "448/448 [==============================] - 12s 27ms/step - loss: 0.5616 - accuracy: 0.7971 - val_loss: 1.1183 - val_accuracy: 0.6168\n",
            "Epoch 38/50\n",
            "448/448 [==============================] - 12s 27ms/step - loss: 0.5331 - accuracy: 0.8085 - val_loss: 1.1170 - val_accuracy: 0.6219\n",
            "Epoch 39/50\n",
            "448/448 [==============================] - 12s 27ms/step - loss: 0.5237 - accuracy: 0.8128 - val_loss: 1.1206 - val_accuracy: 0.6175\n",
            "Epoch 40/50\n",
            "448/448 [==============================] - 12s 27ms/step - loss: 0.4984 - accuracy: 0.8198 - val_loss: 1.1223 - val_accuracy: 0.6203\n",
            "Epoch 41/50\n",
            "448/448 [==============================] - 13s 28ms/step - loss: 0.4903 - accuracy: 0.8222 - val_loss: 1.1618 - val_accuracy: 0.6170\n",
            "Epoch 42/50\n",
            "448/448 [==============================] - 12s 27ms/step - loss: 0.4772 - accuracy: 0.8270 - val_loss: 1.1546 - val_accuracy: 0.6279\n",
            "Epoch 43/50\n",
            "448/448 [==============================] - 12s 27ms/step - loss: 0.4564 - accuracy: 0.8349 - val_loss: 1.1551 - val_accuracy: 0.6215\n",
            "Epoch 44/50\n",
            "448/448 [==============================] - 12s 27ms/step - loss: 0.4357 - accuracy: 0.8409 - val_loss: 1.1876 - val_accuracy: 0.6264\n",
            "Epoch 45/50\n",
            "448/448 [==============================] - 12s 27ms/step - loss: 0.4257 - accuracy: 0.8468 - val_loss: 1.1824 - val_accuracy: 0.6200\n",
            "Epoch 46/50\n",
            "448/448 [==============================] - 12s 28ms/step - loss: 0.4055 - accuracy: 0.8574 - val_loss: 1.1740 - val_accuracy: 0.6186\n",
            "Epoch 47/50\n",
            "448/448 [==============================] - 12s 28ms/step - loss: 0.4008 - accuracy: 0.8569 - val_loss: 1.2072 - val_accuracy: 0.6229\n",
            "Epoch 48/50\n",
            "448/448 [==============================] - 12s 27ms/step - loss: 0.3906 - accuracy: 0.8593 - val_loss: 1.2126 - val_accuracy: 0.6267\n",
            "Epoch 49/50\n",
            "448/448 [==============================] - 12s 28ms/step - loss: 0.3747 - accuracy: 0.8659 - val_loss: 1.2007 - val_accuracy: 0.6240\n",
            "Epoch 50/50\n",
            "448/448 [==============================] - 12s 27ms/step - loss: 0.3553 - accuracy: 0.8723 - val_loss: 1.2204 - val_accuracy: 0.6239\n"
          ]
        }
      ]
    },
    {
      "cell_type": "code",
      "source": [
        "import matplotlib.pyplot as plt\n",
        "# summarize history for accuracy\n",
        "plt.plot(history.history['accuracy'])\n",
        "plt.plot(history.history['val_accuracy'])\n",
        "plt.title('model accuracy')\n",
        "plt.ylabel('accuracy')\n",
        "plt.xlabel('epoch')\n",
        "plt.legend(['train', 'test'], loc='upper left')\n",
        "plt.show()\n",
        "# summarize history for loss\n",
        "plt.plot(history.history['loss'])\n",
        "plt.plot(history.history['val_loss'])\n",
        "plt.title('model loss')\n",
        "plt.ylabel('loss')\n",
        "plt.xlabel('epoch')\n",
        "plt.legend(['train', 'test'], loc='upper left')\n",
        "plt.show()\n",
        " \n",
        "history.history"
      ],
      "metadata": {
        "colab": {
          "base_uri": "https://localhost:8080/",
          "height": 1000
        },
        "id": "depCU1nqp7Vq",
        "outputId": "9faa034e-cab3-4649-fdad-37956759b4c8"
      },
      "execution_count": 21,
      "outputs": [
        {
          "output_type": "display_data",
          "data": {
            "text/plain": [
              "<Figure size 432x288 with 1 Axes>"
            ],
            "image/png": "[encoded data removed]"
          },
          "metadata": {
            "needs_background": "light"
          }
        },
        {
          "output_type": "display_data",
          "data": {
            "text/plain": [
              "<Figure size 432x288 with 1 Axes>"
            ],
            "image/png": "[encoded data removed]"
          },
          "metadata": {
            "needs_background": "light"
          }
        },
        {
          "output_type": "execute_result",
          "data": {
            "text/plain": [
              "{'loss': [1.800279974937439,\n",
              "  1.6299959421157837,\n",
              "  1.5358744859695435,\n",
              "  1.4629586935043335,\n",
              "  1.4032083749771118,\n",
              "  1.3562184572219849,\n",
              "  1.3116481304168701,\n",
              "  1.2734047174453735,\n",
              "  1.2335611581802368,\n",
              "  1.201168179512024,\n",
              "  1.169991374015808,\n",
              "  1.142486810684204,\n",
              "  1.1112184524536133,\n",
              "  1.0844842195510864,\n",
              "  1.0579167604446411,\n",
              "  1.0327519178390503,\n",
              "  1.0114707946777344,\n",
              "  0.9846000671386719,\n",
              "  0.9629617929458618,\n",
              "  0.9395498037338257,\n",
              "  0.9152107238769531,\n",
              "  0.8853062987327576,\n",
              "  0.8687383532524109,\n",
              "  0.8421314358711243,\n",
              "  0.8157719373703003,\n",
              "  0.793949544429779,\n",
              "  0.7735657691955566,\n",
              "  0.7458992600440979,\n",
              "  0.7309150695800781,\n",
              "  0.706059455871582,\n",
              "  0.6810535192489624,\n",
              "  0.6573508977890015,\n",
              "  0.6430822014808655,\n",
              "  0.6204205751419067,\n",
              "  0.5947590470314026,\n",
              "  0.5752395391464233,\n",
              "  0.561630368232727,\n",
              "  0.5331177711486816,\n",
              "  0.5236820578575134,\n",
              "  0.49836045503616333,\n",
              "  0.49025648832321167,\n",
              "  0.4771895110607147,\n",
              "  0.45641234517097473,\n",
              "  0.4356524646282196,\n",
              "  0.42571285367012024,\n",
              "  0.4055164158344269,\n",
              "  0.4008009135723114,\n",
              "  0.3905567526817322,\n",
              "  0.374650239944458,\n",
              "  0.35531166195869446],\n",
              " 'accuracy': [0.2618606984615326,\n",
              "  0.364740788936615,\n",
              "  0.41064757108688354,\n",
              "  0.44018152356147766,\n",
              "  0.46954092383384705,\n",
              "  0.4853901267051697,\n",
              "  0.5001221895217896,\n",
              "  0.5170884728431702,\n",
              "  0.5303194522857666,\n",
              "  0.5488566756248474,\n",
              "  0.5618781447410583,\n",
              "  0.5714784264564514,\n",
              "  0.5856519341468811,\n",
              "  0.5958107709884644,\n",
              "  0.6055856347084045,\n",
              "  0.6149066090583801,\n",
              "  0.6235992312431335,\n",
              "  0.6363763213157654,\n",
              "  0.6430092453956604,\n",
              "  0.652190625667572,\n",
              "  0.6630825400352478,\n",
              "  0.6754756569862366,\n",
              "  0.6818991303443909,\n",
              "  0.6917786598205566,\n",
              "  0.7005760073661804,\n",
              "  0.7092686295509338,\n",
              "  0.7173328399658203,\n",
              "  0.7283295392990112,\n",
              "  0.7336009740829468,\n",
              "  0.7415953874588013,\n",
              "  0.752103328704834,\n",
              "  0.7622621655464172,\n",
              "  0.7669401168823242,\n",
              "  0.7731541395187378,\n",
              "  0.7844998836517334,\n",
              "  0.7915866374969482,\n",
              "  0.7970675230026245,\n",
              "  0.8085180521011353,\n",
              "  0.8128120303153992,\n",
              "  0.8197591304779053,\n",
              "  0.8222377300262451,\n",
              "  0.8269506096839905,\n",
              "  0.834875226020813,\n",
              "  0.8409146666526794,\n",
              "  0.8468493819236755,\n",
              "  0.8573921918869019,\n",
              "  0.856938362121582,\n",
              "  0.8593122959136963,\n",
              "  0.8658753633499146,\n",
              "  0.8722988367080688],\n",
              " 'val_loss': [1.701622724533081,\n",
              "  1.543890118598938,\n",
              "  1.4760551452636719,\n",
              "  1.4090641736984253,\n",
              "  1.3560502529144287,\n",
              "  1.330620527267456,\n",
              "  1.2838548421859741,\n",
              "  1.2511152029037476,\n",
              "  1.221382737159729,\n",
              "  1.2011479139328003,\n",
              "  1.1834523677825928,\n",
              "  1.170867681503296,\n",
              "  1.152221918106079,\n",
              "  1.136099100112915,\n",
              "  1.1204922199249268,\n",
              "  1.111759901046753,\n",
              "  1.1093249320983887,\n",
              "  1.0955029726028442,\n",
              "  1.093828797340393,\n",
              "  1.0874135494232178,\n",
              "  1.0849621295928955,\n",
              "  1.079030156135559,\n",
              "  1.0714582204818726,\n",
              "  1.0811291933059692,\n",
              "  1.086761713027954,\n",
              "  1.0694873332977295,\n",
              "  1.07533860206604,\n",
              "  1.0746272802352905,\n",
              "  1.0806461572647095,\n",
              "  1.0771534442901611,\n",
              "  1.0945550203323364,\n",
              "  1.0946553945541382,\n",
              "  1.0982003211975098,\n",
              "  1.0902597904205322,\n",
              "  1.0937081575393677,\n",
              "  1.1159471273422241,\n",
              "  1.118283748626709,\n",
              "  1.1169506311416626,\n",
              "  1.1206244230270386,\n",
              "  1.122260332107544,\n",
              "  1.1618446111679077,\n",
              "  1.154571533203125,\n",
              "  1.1550568342208862,\n",
              "  1.1876403093338013,\n",
              "  1.1823853254318237,\n",
              "  1.1740186214447021,\n",
              "  1.207162618637085,\n",
              "  1.212611436843872,\n",
              "  1.200729250907898,\n",
              "  1.2203991413116455],\n",
              " 'val_accuracy': [0.3510044515132904,\n",
              "  0.4158761203289032,\n",
              "  0.4428013265132904,\n",
              "  0.4624721109867096,\n",
              "  0.4838169515132904,\n",
              "  0.4928850531578064,\n",
              "  0.5092076063156128,\n",
              "  0.5221819281578064,\n",
              "  0.5364118218421936,\n",
              "  0.5414341688156128,\n",
              "  0.5486885905265808,\n",
              "  0.5555245280265808,\n",
              "  0.560546875,\n",
              "  0.5654296875,\n",
              "  0.5735211968421936,\n",
              "  0.5775669813156128,\n",
              "  0.5811942219734192,\n",
              "  0.5816127061843872,\n",
              "  0.5874720811843872,\n",
              "  0.5912388563156128,\n",
              "  0.5970982313156128,\n",
              "  0.6001673936843872,\n",
              "  0.6043526530265808,\n",
              "  0.6043526530265808,\n",
              "  0.6033760905265808,\n",
              "  0.6067243218421936,\n",
              "  0.6042131781578064,\n",
              "  0.6139788031578064,\n",
              "  0.6128627061843872,\n",
              "  0.6135602593421936,\n",
              "  0.6118861436843872,\n",
              "  0.6150948405265808,\n",
              "  0.6139788031578064,\n",
              "  0.6166294813156128,\n",
              "  0.6195591688156128,\n",
              "  0.6178850531578064,\n",
              "  0.6167689561843872,\n",
              "  0.6219307780265808,\n",
              "  0.6174665093421936,\n",
              "  0.6202567219734192,\n",
              "  0.6170479655265808,\n",
              "  0.6279296875,\n",
              "  0.6215122938156128,\n",
              "  0.6263951063156128,\n",
              "  0.6199776530265808,\n",
              "  0.6185826063156128,\n",
              "  0.6229073405265808,\n",
              "  0.6266741156578064,\n",
              "  0.6240234375,\n",
              "  0.6238839030265808]}"
            ]
          },
          "metadata": {},
          "execution_count": 21
        }
      ]
    },
    {
      "cell_type": "code",
      "source": [
        "# save model structure in jason file\n",
        "model_json = emotion_model.to_json()\n",
        "with open(\"/content/emotion_model.json\", \"w\") as json_file:\n",
        "    json_file.write(model_json)\n",
        "\n",
        "# save trained model weight in .h5 file\n",
        "emotion_model.save_weights('/content/emotion_model.h5')"
      ],
      "metadata": {
        "id": "bP7douk5tMex"
      },
      "execution_count": 22,
      "outputs": []
    },
    {
      "cell_type": "code",
      "source": [],
      "metadata": {
        "id": "QcGeoekipwQj"
      },
      "execution_count": null,
      "outputs": []
    },
    {
      "cell_type": "code",
      "source": [],
      "metadata": {
        "id": "fykmfdHppwT2"
      },
      "execution_count": null,
      "outputs": []
    }
  ]
}